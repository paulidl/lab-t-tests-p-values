{
 "cells": [
  {
   "cell_type": "markdown",
   "id": "79cbfafa",
   "metadata": {},
   "source": [
    "# Lab | Inferential statistics - T-test & P-value\n",
    "## Instructions\n",
    "1. We will have another simple example on two sample t test (pooled- when the variances are equal). But this time this is a one sided t-test.\n",
    "\n",
    "    In a packing plant, a machine packs cartons with jars. It is supposed that a new machine will pack faster on the average than the machine currently used. To test that hypothesis, the times it takes each machine to pack ten cartons are recorded. The results, in seconds, are shown in the tables in the file `files_for_lab/machine.txt`. Assume that there is sufficient evidence to conduct the t test, does the data provide sufficient evidence to show if one machine is better than the other.\n",
    "\n",
    "\n",
    "2. An additional problem (not mandatory): In this case we can't assume that the population variances are equal. Hence in this case we cannot pool the variances. Independent random samples of 17 sophomores and 13 juniors attending a large university yield the following data on grade point averages. Data is provided in the file `files_for_lab/student_gpa.txt`. At the 5% significance level, do the data provide sufficient evidence to conclude that the mean GPAs of sophomores and juniors at the university differ?\n",
    "\n",
    "    Test statistics can be calculated as: link to the image - Test statistics calculation for Unpooled Variance Case\n",
    "\n",
    "    Degrees of freedom is (n1-1)+(n2-1)."
   ]
  },
  {
   "cell_type": "code",
   "execution_count": 13,
   "id": "3112ce88",
   "metadata": {},
   "outputs": [],
   "source": [
    "import numpy as np\n",
    "import pandas as pd\n",
    "\n",
    "from scipy.stats import t\n",
    "import math\n",
    "\n",
    "import matplotlib.pyplot as plt\n",
    "import seaborn as sns\n"
   ]
  },
  {
   "cell_type": "code",
   "execution_count": 2,
   "id": "2aa30f2f",
   "metadata": {},
   "outputs": [
    {
     "data": {
      "text/html": [
       "<div>\n",
       "<style scoped>\n",
       "    .dataframe tbody tr th:only-of-type {\n",
       "        vertical-align: middle;\n",
       "    }\n",
       "\n",
       "    .dataframe tbody tr th {\n",
       "        vertical-align: top;\n",
       "    }\n",
       "\n",
       "    .dataframe thead th {\n",
       "        text-align: right;\n",
       "    }\n",
       "</style>\n",
       "<table border=\"1\" class=\"dataframe\">\n",
       "  <thead>\n",
       "    <tr style=\"text-align: right;\">\n",
       "      <th></th>\n",
       "      <th>New machine</th>\n",
       "      <th>Old machine</th>\n",
       "    </tr>\n",
       "  </thead>\n",
       "  <tbody>\n",
       "    <tr>\n",
       "      <th>0</th>\n",
       "      <td>42.1</td>\n",
       "      <td>42.7</td>\n",
       "    </tr>\n",
       "    <tr>\n",
       "      <th>1</th>\n",
       "      <td>41.0</td>\n",
       "      <td>43.6</td>\n",
       "    </tr>\n",
       "    <tr>\n",
       "      <th>2</th>\n",
       "      <td>41.3</td>\n",
       "      <td>43.8</td>\n",
       "    </tr>\n",
       "    <tr>\n",
       "      <th>3</th>\n",
       "      <td>41.8</td>\n",
       "      <td>43.3</td>\n",
       "    </tr>\n",
       "    <tr>\n",
       "      <th>4</th>\n",
       "      <td>42.4</td>\n",
       "      <td>42.5</td>\n",
       "    </tr>\n",
       "    <tr>\n",
       "      <th>5</th>\n",
       "      <td>42.8</td>\n",
       "      <td>43.5</td>\n",
       "    </tr>\n",
       "    <tr>\n",
       "      <th>6</th>\n",
       "      <td>43.2</td>\n",
       "      <td>43.1</td>\n",
       "    </tr>\n",
       "    <tr>\n",
       "      <th>7</th>\n",
       "      <td>42.3</td>\n",
       "      <td>41.7</td>\n",
       "    </tr>\n",
       "    <tr>\n",
       "      <th>8</th>\n",
       "      <td>41.8</td>\n",
       "      <td>44.0</td>\n",
       "    </tr>\n",
       "    <tr>\n",
       "      <th>9</th>\n",
       "      <td>42.7</td>\n",
       "      <td>44.1</td>\n",
       "    </tr>\n",
       "  </tbody>\n",
       "</table>\n",
       "</div>"
      ],
      "text/plain": [
       "   New machine      Old machine\n",
       "0         42.1             42.7\n",
       "1         41.0             43.6\n",
       "2         41.3             43.8\n",
       "3         41.8             43.3\n",
       "4         42.4             42.5\n",
       "5         42.8             43.5\n",
       "6         43.2             43.1\n",
       "7         42.3             41.7\n",
       "8         41.8             44.0\n",
       "9         42.7             44.1"
      ]
     },
     "execution_count": 2,
     "metadata": {},
     "output_type": "execute_result"
    }
   ],
   "source": [
    "# Importing the data.\n",
    "data = pd.read_csv('/Users/pauli/Desktop/Ironhack/Week17/Jueves/lab-t-tests-p-values/files_for_lab/machine.txt', encoding='utf-16', sep='\\t')\n",
    "data"
   ]
  },
  {
   "cell_type": "markdown",
   "id": "3b3984a8",
   "metadata": {},
   "source": [
    "#### Hypothesis\n",
    "\n",
    "    m2 = average speed of New machine\n",
    "    m1 = average speed of Old machine\n",
    "\n",
    "    H0: m2 = m1 (The two machines are performing the same)\n",
    "    H1: m2 > m1 (The New machine will pack faster on the average than the Old machine)\n",
    "\n",
    "    We choose a significance level of alpha = 0.05\n",
    "    This is a right-tailed test."
   ]
  },
  {
   "cell_type": "markdown",
   "id": "ce3d35e6",
   "metadata": {},
   "source": [
    "#### Two-sample t-test assumptions\n",
    "\n",
    "To conduct a valid test:\n",
    "\n",
    "* **Data values must be independent.** Measurements for one observation do not affect measurements for any other observation. --> There is no connection between the two machines, so this is true*\n",
    "* **Data in each group must be obtained via a random sample from the population.** --> We'll assume this is true\n",
    "* **Data in each group are normally distributed.** --> The values can be plotted for the two samples\n",
    "* **Data values are continuous.** --> This is the case because time is measured in seconds\n",
    "* **The variances for the two independent groups are equal.** --> The two samples have similar variances"
   ]
  },
  {
   "cell_type": "code",
   "execution_count": 3,
   "id": "0037b50a",
   "metadata": {},
   "outputs": [
    {
     "data": {
      "text/plain": [
       "Index(['New machine', '    Old machine'], dtype='object')"
      ]
     },
     "execution_count": 3,
     "metadata": {},
     "output_type": "execute_result"
    }
   ],
   "source": [
    "# Checking the columns.\n",
    "data.columns"
   ]
  },
  {
   "cell_type": "code",
   "execution_count": 4,
   "id": "fb9118eb",
   "metadata": {},
   "outputs": [],
   "source": [
    "# Renaming the name of the Old machine column.\n",
    "data.rename(columns={'    Old machine': 'old_machine'}, inplace=True)\n",
    "data.rename(columns={'New machine': 'new_machine'}, inplace=True)"
   ]
  },
  {
   "cell_type": "code",
   "execution_count": 7,
   "id": "83a3f116",
   "metadata": {},
   "outputs": [
    {
     "name": "stdout",
     "output_type": "stream",
     "text": [
      "Old machine :    mean = 43.23    standard deviation = 0.75    samples = 10\n",
      "New machine :    mean = 42.14    standard deviation = 0.68    samples = 10\n"
     ]
    }
   ],
   "source": [
    "m1 = round(data['old_machine'].mean(), 2)\n",
    "m2 = round(data['new_machine'].mean(), 2)\n",
    "\n",
    "std1 = round(data['old_machine'].std(), 2)\n",
    "std2 = round(data['new_machine'].std(), 2)\n",
    "\n",
    "n1 = 10    # Number of samples\n",
    "n2 = 10    # Number of samples\n",
    "\n",
    "degree = (n1-1)+(n2-1)\n",
    "\n",
    "print('Old machine :', '   mean =', m1, '   standard deviation =', std1, '   samples =', n1)\n",
    "print('New machine :', '   mean =', m2, '   standard deviation =', std2, '   samples =', n2)"
   ]
  },
  {
   "cell_type": "code",
   "execution_count": 11,
   "id": "c6c35e5b",
   "metadata": {},
   "outputs": [
    {
     "data": {
      "image/png": "[encoded data removed]",
      "text/plain": [
       "<Figure size 360x360 with 1 Axes>"
      ]
     },
     "metadata": {
      "needs_background": "light"
     },
     "output_type": "display_data"
    }
   ],
   "source": [
    "# Checking the data\n",
    "sns.displot([data['new_machine'], data['old_machine']], kind='kde', legend=False)\n",
    "plt.legend([\"New machine\", \"Old machine\"])\n",
    "plt.xlabel(\"Time [seg]\")\n",
    "plt.show()"
   ]
  },
  {
   "cell_type": "markdown",
   "id": "8c9637fe",
   "metadata": {},
   "source": [
    "**We see that the values are normally distributed in the two datasets.**"
   ]
  },
  {
   "cell_type": "code",
   "execution_count": 33,
   "id": "2a668928",
   "metadata": {},
   "outputs": [
    {
     "name": "stdout",
     "output_type": "stream",
     "text": [
      "-2.882\n"
     ]
    }
   ],
   "source": [
    "# Calculate the t-value:\n",
    "diff_means = m2 - m1\n",
    "standard_error_for_the_mean = math.sqrt((std1/n1)+(std2/n2))\n",
    "t = round((diff_means / standard_error_for_the_mean), 3)\n",
    "print(t)"
   ]
  },
  {
   "cell_type": "code",
   "execution_count": 35,
   "id": "f57c7e3d",
   "metadata": {},
   "outputs": [
    {
     "name": "stdout",
     "output_type": "stream",
     "text": [
      "T Statistic is:  -3.4047540987884606\n"
     ]
    }
   ],
   "source": [
    "pooled_sample_std = math.sqrt(((n1-1)*std1**2 + (n2-1)*std2**2)/(n1+n2-2))\n",
    "statistic = (m2-m1)/(pooled_sample_std*math.sqrt((1/n1)+(1/n2)))\n",
    "print(\"T Statistic is: \", statistic)"
   ]
  },
  {
   "cell_type": "code",
   "execution_count": 36,
   "id": "b142ade2",
   "metadata": {},
   "outputs": [
    {
     "name": "stdout",
     "output_type": "stream",
     "text": [
      "P value is:  0.9984209598073223\n",
      "Critical Value of z is:  -1.734063606617536\n"
     ]
    }
   ],
   "source": [
    "from scipy.stats import t\n",
    "\n",
    "# Using python to find the p value and critical value\n",
    "print(\"P value is: \", 1- t.cdf(statistic,n1+n2-2))\n",
    "print(\"Critical Value of z is: \", t.ppf(0.05, n1+n2-2)) #alpha is 0.05"
   ]
  },
  {
   "cell_type": "code",
   "execution_count": 37,
   "id": "36e5f35c",
   "metadata": {},
   "outputs": [
    {
     "name": "stdout",
     "output_type": "stream",
     "text": [
      "Therefore we faild to reject the null hypothesis Ho\n"
     ]
    }
   ],
   "source": [
    "from scipy.stats import t\n",
    "if (1- t.cdf(statistic,n1+n2-2)) > 0.05:\n",
    "    print(\"Therefore we faild to reject the null hypothesis Ho\")"
   ]
  }
 ],
 "metadata": {
  "kernelspec": {
   "display_name": "Python 3 (ipykernel)",
   "language": "python",
   "name": "python3"
  },
  "language_info": {
   "codemirror_mode": {
    "name": "ipython",
    "version": 3
   },
   "file_extension": ".py",
   "mimetype": "text/x-python",
   "name": "python",
   "nbconvert_exporter": "python",
   "pygments_lexer": "ipython3",
   "version": "3.9.12"
  }
 },
 "nbformat": 4,
 "nbformat_minor": 5
}
